{
  "cells": [
    {
      "cell_type": "code",
      "metadata": {
        "jukit_cell_id": "67lVNdHohg"
      },
      "source": [
        "import pandas_ta as ta\n",
        "from quantnb.lib import find_files, pd\n",
        "import talib\n",
        "import time\n",
        "import numpy as np\n",
        "from prettytable import PrettyTable\n",
        "\n",
        "\n",
        "datas = {}\n",
        "assets = find_files(\"./data\", \"binance\")\n",
        "\n",
        "for asset in assets:\n",
        "    datas[asset.split(\"-\")[1]] = pd.read_parquet(asset)\n",
        "\n",
        "\n",
        "keys = list(datas.keys())\n",
        "\n",
        "data = datas[keys[0]]\n",
        "print(data)"
      ],
      "outputs": [
        {
          "output_type": "stream",
          "name": "stdout",
          "text": "./data\n                        open  ...       volume\nDate                          ...             \n2018-05-04 08:00:00  0.50000  ...   5090857.33\n2018-05-04 09:00:00  0.92300  ...   3326696.10\n2018-05-04 10:00:00  0.90199  ...   1176810.48\n2018-05-04 11:00:00  0.90128  ...   1714233.92\n2018-05-04 12:00:00  0.91596  ...   1323800.17\n...                      ...  ...          ...\n2023-08-02 07:00:00  0.69350  ...  10121095.00\n2023-08-02 08:00:00  0.69480  ...  10320024.00\n2023-08-02 09:00:00  0.69470  ...   5349201.00\n2023-08-02 10:00:00  0.69420  ...   5752090.00\n2023-08-02 11:00:00  0.69740  ...   1221871.00\n\n[45900 rows x 5 columns]\n"
        }
      ],
      "execution_count": 1
    },
    {
      "cell_type": "code",
      "metadata": {
        "jukit_cell_id": "ud493qJ1DW"
      },
      "source": [
        "# correlation_matrix = ta_sma.corr(talib_sma)\n",
        "# print(correlation_matrix)\n",
        "def get_time(library, function, data=None, **args):\n",
        "    start = time.time()\n",
        "    result = getattr(library, function)(data, **args)\n",
        "    end = time.time()\n",
        "    ta_time = end - start\n",
        "    return np.round(ta_time, 10)\n",
        "\n",
        "\n",
        "t = PrettyTable([\"Method\", \"Pandas_TA(s)\", \"Talib(s)\", \"Improvement\"])\n",
        "\n",
        "# ================================================================================================ #\n",
        "#                                               SMA                                                #\n",
        "# ================================================================================================ #\n",
        "pandas_time = get_time(ta, \"sma\", data=data[\"close\"], length=20)\n",
        "talib_time = get_time(talib, \"SMA\", data=data[\"close\"], timeperiod=20)\n",
        "improvement = f\"{np.round((pandas_time - talib_time) / pandas_time * 100, 2)}%\"\n",
        "t.add_row([\"SMA\", pandas_time, talib_time, improvement])\n",
        "\n",
        "# ================================================================================================ #\n",
        "#                                               EMA                                                #\n",
        "# ================================================================================================ #\n",
        "pandas_time = get_time(ta, \"ema\", data=data[\"close\"], length=20)\n",
        "talib_time = get_time(talib, \"EMA\", data=data[\"close\"], timeperiod=20)\n",
        "improvement = f\"{np.round((pandas_time - talib_time) / pandas_time * 100, 2)}%\"\n",
        "t.add_row([\"EMA\", pandas_time, talib_time, improvement])\n",
        "\n",
        "# ================================================================================================ #\n",
        "#                                               ATR                                                #\n",
        "# ================================================================================================ #\n",
        "pandas_time = get_time(\n",
        "    ta, \"atr\", data=data[\"high\"], low=data[\"low\"], close=data[\"close\"], length=14\n",
        ")\n",
        "talib_time = get_time(\n",
        "    talib,\n",
        "    \"ATR\",\n",
        "    data=data[\"high\"],\n",
        "    low=data[\"low\"],\n",
        "    close=data[\"close\"],\n",
        "    timeperiod=14,\n",
        ")\n",
        "improvement = f\"{np.round((pandas_time - talib_time) / pandas_time * 100, 2)}%\"\n",
        "t.add_row([\"ATR\", pandas_time, talib_time, improvement])\n",
        "\n",
        "\n",
        "# ================================================================================================ #\n",
        "#                                       Bollinger Bands                                            #\n",
        "# ================================================================================================ #\n",
        "pandas_time = get_time(ta, \"bbands\", data=data[\"close\"], length=20)\n",
        "talib_time = get_time(talib, \"BBANDS\", data=data[\"close\"], timeperiod=20)\n",
        "improvement = f\"{np.round((pandas_time - talib_time) / pandas_time * 100, 2)}%\"\n",
        "t.add_row([\"Bollinger Bands\", pandas_time, talib_time, improvement])\n",
        "\n",
        "\n",
        "# ================================================================================================ #\n",
        "#                                         Print OUTPUT                                             #\n",
        "# ================================================================================================ #\n",
        "print(t)"
      ],
      "outputs": [
        {
          "output_type": "stream",
          "name": "stdout",
          "text": "+-----------------+--------------+--------------+-------------+\n|      Method     | Pandas_TA(s) |   Talib(s)   | Improvement |\n+-----------------+--------------+--------------+-------------+\n|       SMA       | 0.0004887581 | 0.0001530647 |    68.68%   |\n|       EMA       | 0.0002169609 | 0.0001747608 |    19.45%   |\n|       ATR       | 0.0007224083 | 0.0003979206 |    44.92%   |\n| Bollinger Bands | 0.0020177364 | 0.0003914833 |    80.6%    |\n+-----------------+--------------+--------------+-------------+\n"
        }
      ],
      "execution_count": 2
    }
  ],
  "metadata": {
    "anaconda-cloud": {},
    "kernelspec": {
      "display_name": "python",
      "language": "python",
      "name": "python3"
    }
  },
  "nbformat": 4,
  "nbformat_minor": 4
}